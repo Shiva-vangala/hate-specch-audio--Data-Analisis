{
  "nbformat": 4,
  "nbformat_minor": 0,
  "metadata": {
    "colab": {
      "provenance": [],
      "gpuType": "T4"
    },
    "kernelspec": {
      "name": "python3",
      "display_name": "Python 3"
    },
    "language_info": {
      "name": "python"
    },
    "accelerator": "GPU"
  },
  "cells": [
    {
      "cell_type": "code",
      "source": [
        "'/root/.cache/kagglehub/datasets/mdmab0/audio-dataset/v1/some_folder/*.wav'"
      ],
      "metadata": {
        "colab": {
          "base_uri": "https://localhost:8080/",
          "height": 35
        },
        "id": "AJ9lOz5tzzDe",
        "outputId": "0fad7ecd-4f2f-4734-c674-bb4691e4dda7"
      },
      "execution_count": 5,
      "outputs": [
        {
          "output_type": "execute_result",
          "data": {
            "text/plain": [
              "'/root/.cache/kagglehub/datasets/mdmab0/audio-dataset/v1/some_folder/*.wav'"
            ],
            "application/vnd.google.colaboratory.intrinsic+json": {
              "type": "string"
            }
          },
          "metadata": {},
          "execution_count": 5
        }
      ]
    },
    {
      "cell_type": "code",
      "source": [
        "from google.colab import drive\n",
        "import os # Import the 'os' module\n",
        "\n",
        "# Check if the directory is already mounted by looking for 'MyDrive'\n",
        "if not os.path.exists('/content/drive/MyDrive'):\n",
        "  drive.mount('/content/drive')\n",
        "else:\n",
        "  print(\"Google Drive is already mounted at /content/drive\")"
      ],
      "metadata": {
        "colab": {
          "base_uri": "https://localhost:8080/"
        },
        "id": "v-vRlRfDz9Z-",
        "outputId": "79f3dd0b-4167-4195-9a9b-cb829c66590c"
      },
      "execution_count": 6,
      "outputs": [
        {
          "output_type": "stream",
          "name": "stdout",
          "text": [
            "Google Drive is already mounted at /content/drive\n"
          ]
        }
      ]
    },
    {
      "cell_type": "code",
      "source": [
        "import shutil\n",
        "import os\n",
        "from pathlib import Path\n",
        "import kagglehub # Importing kagglehub here to define 'path'\n",
        "\n",
        "# Download latest version\n",
        "path = kagglehub.dataset_download(\"mdmab0/audio-dataset\") # Defining 'path' before using it\n",
        "\n",
        "print(\"Path to dataset files:\", path)\n",
        "\n",
        "# Source folder where audio files are stored\n",
        "source_folder = Path(path)\n",
        "\n",
        "# Destination in your Google Drive\n",
        "destination_folder = Path('/content/drive/MyDrive/audio_files')\n",
        "\n",
        "# Create destination folder if it doesn't exist\n",
        "destination_folder.mkdir(parents=True, exist_ok=True)\n",
        "\n",
        "# Copy .wav files\n",
        "for file in source_folder.rglob(\"*.wav\"):\n",
        "    shutil.copy(file, destination_folder)\n",
        "\n",
        "print(f\"Copied all .wav files to: {destination_folder}\")"
      ],
      "metadata": {
        "colab": {
          "base_uri": "https://localhost:8080/"
        },
        "id": "mrULMxZhzer_",
        "outputId": "b6e0d990-5b4a-4ea5-9916-0751c5ecb8cd"
      },
      "execution_count": 7,
      "outputs": [
        {
          "output_type": "stream",
          "name": "stdout",
          "text": [
            "Path to dataset files: /kaggle/input/audio-dataset\n",
            "Copied all .wav files to: /content/drive/MyDrive/audio_files\n"
          ]
        }
      ]
    },
    {
      "cell_type": "code",
      "source": [
        "for i, file in enumerate(source_folder.rglob(\"*.wav\")):\n",
        "    new_name = f\"audio_{i:04d}.wav\"\n",
        "    shutil.copy(file, destination_folder / new_name)\n"
      ],
      "metadata": {
        "id": "UAR9a_oV0NG6"
      },
      "execution_count": 8,
      "outputs": []
    },
    {
      "cell_type": "code",
      "source": [
        "!pip install librosa matplotlib soundfile\n"
      ],
      "metadata": {
        "colab": {
          "base_uri": "https://localhost:8080/"
        },
        "id": "6Vf4K29k044Q",
        "outputId": "465448cb-c66d-47d6-893d-730e19326d70"
      },
      "execution_count": 9,
      "outputs": [
        {
          "output_type": "stream",
          "name": "stdout",
          "text": [
            "Requirement already satisfied: librosa in /usr/local/lib/python3.11/dist-packages (0.10.2.post1)\n",
            "Requirement already satisfied: matplotlib in /usr/local/lib/python3.11/dist-packages (3.10.0)\n",
            "Requirement already satisfied: soundfile in /usr/local/lib/python3.11/dist-packages (0.13.1)\n",
            "Requirement already satisfied: audioread>=2.1.9 in /usr/local/lib/python3.11/dist-packages (from librosa) (3.0.1)\n",
            "Requirement already satisfied: numpy!=1.22.0,!=1.22.1,!=1.22.2,>=1.20.3 in /usr/local/lib/python3.11/dist-packages (from librosa) (1.26.4)\n",
            "Requirement already satisfied: scipy>=1.2.0 in /usr/local/lib/python3.11/dist-packages (from librosa) (1.13.1)\n",
            "Requirement already satisfied: scikit-learn>=0.20.0 in /usr/local/lib/python3.11/dist-packages (from librosa) (1.6.1)\n",
            "Requirement already satisfied: joblib>=0.14 in /usr/local/lib/python3.11/dist-packages (from librosa) (1.4.2)\n",
            "Requirement already satisfied: decorator>=4.3.0 in /usr/local/lib/python3.11/dist-packages (from librosa) (4.4.2)\n",
            "Requirement already satisfied: numba>=0.51.0 in /usr/local/lib/python3.11/dist-packages (from librosa) (0.60.0)\n",
            "Requirement already satisfied: pooch>=1.1 in /usr/local/lib/python3.11/dist-packages (from librosa) (1.8.2)\n",
            "Requirement already satisfied: soxr>=0.3.2 in /usr/local/lib/python3.11/dist-packages (from librosa) (0.5.0.post1)\n",
            "Requirement already satisfied: typing-extensions>=4.1.1 in /usr/local/lib/python3.11/dist-packages (from librosa) (4.12.2)\n",
            "Requirement already satisfied: lazy-loader>=0.1 in /usr/local/lib/python3.11/dist-packages (from librosa) (0.4)\n",
            "Requirement already satisfied: msgpack>=1.0 in /usr/local/lib/python3.11/dist-packages (from librosa) (1.1.0)\n",
            "Requirement already satisfied: contourpy>=1.0.1 in /usr/local/lib/python3.11/dist-packages (from matplotlib) (1.3.1)\n",
            "Requirement already satisfied: cycler>=0.10 in /usr/local/lib/python3.11/dist-packages (from matplotlib) (0.12.1)\n",
            "Requirement already satisfied: fonttools>=4.22.0 in /usr/local/lib/python3.11/dist-packages (from matplotlib) (4.56.0)\n",
            "Requirement already satisfied: kiwisolver>=1.3.1 in /usr/local/lib/python3.11/dist-packages (from matplotlib) (1.4.8)\n",
            "Requirement already satisfied: packaging>=20.0 in /usr/local/lib/python3.11/dist-packages (from matplotlib) (24.2)\n",
            "Requirement already satisfied: pillow>=8 in /usr/local/lib/python3.11/dist-packages (from matplotlib) (11.1.0)\n",
            "Requirement already satisfied: pyparsing>=2.3.1 in /usr/local/lib/python3.11/dist-packages (from matplotlib) (3.2.1)\n",
            "Requirement already satisfied: python-dateutil>=2.7 in /usr/local/lib/python3.11/dist-packages (from matplotlib) (2.8.2)\n",
            "Requirement already satisfied: cffi>=1.0 in /usr/local/lib/python3.11/dist-packages (from soundfile) (1.17.1)\n",
            "Requirement already satisfied: pycparser in /usr/local/lib/python3.11/dist-packages (from cffi>=1.0->soundfile) (2.22)\n",
            "Requirement already satisfied: llvmlite<0.44,>=0.43.0dev0 in /usr/local/lib/python3.11/dist-packages (from numba>=0.51.0->librosa) (0.43.0)\n",
            "Requirement already satisfied: platformdirs>=2.5.0 in /usr/local/lib/python3.11/dist-packages (from pooch>=1.1->librosa) (4.3.6)\n",
            "Requirement already satisfied: requests>=2.19.0 in /usr/local/lib/python3.11/dist-packages (from pooch>=1.1->librosa) (2.32.3)\n",
            "Requirement already satisfied: six>=1.5 in /usr/local/lib/python3.11/dist-packages (from python-dateutil>=2.7->matplotlib) (1.17.0)\n",
            "Requirement already satisfied: threadpoolctl>=3.1.0 in /usr/local/lib/python3.11/dist-packages (from scikit-learn>=0.20.0->librosa) (3.5.0)\n",
            "Requirement already satisfied: charset-normalizer<4,>=2 in /usr/local/lib/python3.11/dist-packages (from requests>=2.19.0->pooch>=1.1->librosa) (3.4.1)\n",
            "Requirement already satisfied: idna<4,>=2.5 in /usr/local/lib/python3.11/dist-packages (from requests>=2.19.0->pooch>=1.1->librosa) (3.10)\n",
            "Requirement already satisfied: urllib3<3,>=1.21.1 in /usr/local/lib/python3.11/dist-packages (from requests>=2.19.0->pooch>=1.1->librosa) (2.3.0)\n",
            "Requirement already satisfied: certifi>=2017.4.17 in /usr/local/lib/python3.11/dist-packages (from requests>=2.19.0->pooch>=1.1->librosa) (2025.1.31)\n"
          ]
        }
      ]
    },
    {
      "cell_type": "code",
      "source": [
        "import librosa\n",
        "import librosa.display\n",
        "import matplotlib.pyplot as plt\n",
        "import os\n",
        "from pathlib import Path\n"
      ],
      "metadata": {
        "id": "PgEQUUl1086e"
      },
      "execution_count": 10,
      "outputs": []
    },
    {
      "cell_type": "code",
      "source": [
        "from pathlib import Path\n",
        "import librosa\n",
        "import librosa.display\n",
        "import matplotlib.pyplot as plt\n",
        "\n",
        "# Source and destination folders\n",
        "source_folder = Path(\"/content/drive/MyDrive/audio_files\")\n",
        "output_folder = Path(\"/content/drive/MyDrive/audio_processed\")\n",
        "output_folder.mkdir(parents=True, exist_ok=True)\n",
        "\n",
        "# Function to save waveform, spectrogram, and MFCC\n",
        "def process_audio(file_path, save_folder):\n",
        "    filename = Path(file_path).stem\n",
        "    audio, sr = librosa.load(file_path, sr=None)\n",
        "\n",
        "    # Waveform\n",
        "    plt.figure(figsize=(10, 3))\n",
        "    librosa.display.waveshow(audio, sr=sr)\n",
        "    plt.title(f'Waveform - {filename}')\n",
        "    plt.tight_layout()\n",
        "    plt.savefig(save_folder / f\"{filename}_waveform.png\")\n",
        "    plt.close()\n",
        "\n",
        "    # Spectrogram\n",
        "    spec = librosa.stft(audio)\n",
        "    spec_db = librosa.amplitude_to_db(abs(spec))\n",
        "    plt.figure(figsize=(10, 4))\n",
        "    librosa.display.specshow(spec_db, sr=sr, x_axis='time', y_axis='hz')\n",
        "    plt.colorbar(format='%+2.0f dB')\n",
        "    plt.title(f'Spectrogram - {filename}')\n",
        "    plt.tight_layout()\n",
        "    plt.savefig(save_folder / f\"{filename}_spectrogram.png\")\n",
        "    plt.close()\n",
        "\n",
        "    # MFCC\n",
        "    mfcc = librosa.feature.mfcc(y=audio, sr=sr, n_mfcc=13)\n",
        "    plt.figure(figsize=(10, 4))\n",
        "    librosa.display.specshow(mfcc, x_axis='time')\n",
        "    plt.colorbar()\n",
        "    plt.title(f'MFCC - {filename}')\n",
        "    plt.tight_layout()\n",
        "    plt.savefig(save_folder / f\"{filename}_mfcc.png\")\n",
        "    plt.close()\n",
        "\n",
        "    print(f\"Processed: {filename}\")\n",
        "\n",
        "# Limit to 500 files\n",
        "max_files = 200\n",
        "count = 0\n",
        "\n",
        "for wav_file in source_folder.rglob(\"*.wav\"):\n",
        "    if count >= max_files:\n",
        "        break\n",
        "    process_audio(wav_file, output_folder)\n",
        "    count += 1\n",
        "\n",
        "print(f\"✅ Processed {count} audio files and saved results.\")\n"
      ],
      "metadata": {
        "colab": {
          "base_uri": "https://localhost:8080/"
        },
        "id": "zi2_1f860_wA",
        "outputId": "fc29f7fe-28f6-4cda-ed51-6fd55c428b79"
      },
      "execution_count": 11,
      "outputs": [
        {
          "output_type": "stream",
          "name": "stdout",
          "text": [
            "Processed: not_hs_phrase_308\n",
            "Processed: hs_audio_15_22_f\n",
            "Processed: hs_audio_word_15_10\n",
            "Processed: hs_audio_word_1_3_f\n",
            "Processed: hs_audio_4_1\n",
            "Processed: hs_audio_word_24_2\n",
            "Processed: hs_audio_word_5_5\n",
            "Processed: hs_audio_word_9_7\n",
            "Processed: not_hs_phrase_107\n",
            "Processed: not_hs_phrase_442\n",
            "Processed: not_hs_phrase_105\n",
            "Processed: hs_audio_5_23\n",
            "Processed: not_hs_phrase_178\n",
            "Processed: not_hs_phrase_479\n",
            "Processed: not_hs_phrase_230_f\n",
            "Processed: not_hs_phrase_545\n",
            "Processed: not_hs_phrase_384_f\n",
            "Processed: hs_audio_15_27_f\n",
            "Processed: not_hs_phrase_348_f\n",
            "Processed: hs_audio_word_26_17\n",
            "Processed: not_hs_audio_8_8\n",
            "Processed: not_hs_audio_8_10\n",
            "Processed: hs_audio_word_30_11\n",
            "Processed: not_hs_phrase_452\n",
            "Processed: hs_audio_5_14\n",
            "Processed: hs_audio_word_29_16\n",
            "Processed: hs_audio_word_6_6\n",
            "Processed: not_hs_phrase_529\n",
            "Processed: hs_audio_14_11\n",
            "Processed: not_hs_phrase_464\n",
            "Processed: not_hs_phrase_343\n",
            "Processed: hs_audio_5_41\n",
            "Processed: hs_audio_word_20_8\n",
            "Processed: not_hs_audio_8_12\n",
            "Processed: hs_audio_word_23_9\n",
            "Processed: not_hs_phrase_549\n",
            "Processed: not_hs_phrase_65\n",
            "Processed: hs_audio_word_23_1\n",
            "Processed: not_hs_phrase_307\n",
            "Processed: hs_audio_15_12_f\n",
            "Processed: hs_audio_word_12_3\n",
            "Processed: not_hs_phrase_289_f\n",
            "Processed: not_hs_phrase_388\n",
            "Processed: not_hs_phrase_411\n",
            "Processed: hs_audio_word_16_14\n",
            "Processed: not_hs_audio_8_13\n",
            "Processed: not_hs_phrase_44_f\n",
            "Processed: not_hs_phrase_494_f\n",
            "Processed: hs_audio_word_18_7_f\n",
            "Processed: not_hs_phrase_83\n",
            "Processed: not_hs_phrase_100\n",
            "Processed: hs_audio_15_8_f\n",
            "Processed: not_hs_phrase_283\n",
            "Processed: not_hs_phrase_419\n",
            "Processed: hs_audio_15_13_f\n",
            "Processed: hs_audio_word_13_5_f\n",
            "Processed: not_hs_phrase_75_f\n",
            "Processed: hs_audio_word_17_5\n",
            "Processed: not_hs_phrase_297_f\n",
            "Processed: hs_audio_word_24_5\n",
            "Processed: hs_audio_word_30_13\n",
            "Processed: hs_audio_word_32_8\n",
            "Processed: not_hs_phrase_72\n",
            "Processed: hs_audio_5_47\n",
            "Processed: hs_audio_word_15_5\n",
            "Processed: not_hs_phrase_302_f\n",
            "Processed: not_hs_phrase_295\n",
            "Processed: not_hs_audio_8_32\n",
            "Processed: hs_audio_15_4_f\n",
            "Processed: hs_audio_word_24_15\n",
            "Processed: hs_audio_word_9_6\n",
            "Processed: not_hs_phrase_181\n",
            "Processed: hs_audio_word_27_5\n",
            "Processed: not_hs_phrase_130_f\n",
            "Processed: not_hs_phrase_101_f\n",
            "Processed: hs_audio_9_12\n",
            "Processed: not_hs_phrase_407\n",
            "Processed: not_hs_phrase_30_f\n",
            "Processed: not_hs_phrase_410\n",
            "Processed: hs_audio_word_11_11_f\n",
            "Processed: hs_audio_14_16\n",
            "Processed: hs_audio_14_27\n",
            "Processed: hs_audio_word_28_3_f\n",
            "Processed: not_hs_phrase_469\n",
            "Processed: not_hs_phrase_296_f\n",
            "Processed: hs_audio_10_5\n",
            "Processed: hs_audio_word_13_13\n",
            "Processed: not_hs_phrase_320\n",
            "Processed: hs_audio_word_16_6_f\n",
            "Processed: hs_audio_11_25\n",
            "Processed: hs_audio_12_2\n",
            "Processed: hs_audio_word_24_9_f\n",
            "Processed: hs_audio_word_29_14_f\n",
            "Processed: not_hs_phrase_191\n",
            "Processed: not_hs_phrase_424\n",
            "Processed: not_hs_audio_8_20\n",
            "Processed: not_hs_phrase_597_f\n",
            "Processed: hs_audio_11_15\n",
            "Processed: not_hs_phrase_12\n",
            "Processed: not_hs_phrase_209_f\n",
            "Processed: not_hs_phrase_429\n",
            "Processed: not_hs_phrase_366\n",
            "Processed: not_hs_phrase_539\n",
            "Processed: hs_audio_word_30_9\n",
            "Processed: hs_audio_9_10\n",
            "Processed: not_hs_phrase_119\n",
            "Processed: hs_audio_word_29_18\n",
            "Processed: hs_audio_5_4\n",
            "Processed: hs_audio_word_32_13\n",
            "Processed: hs_audio_word_24_14\n",
            "Processed: hs_audio_11_2\n",
            "Processed: hs_audio_word_26_15\n",
            "Processed: hs_audio_word_24_26_f\n",
            "Processed: hs_audio_5_53\n",
            "Processed: hs_audio_15_26_f\n",
            "Processed: hs_audio_15_2_f\n",
            "Processed: hs_audio_word_24_25\n",
            "Processed: hs_audio_word_31_2\n",
            "Processed: not_hs_phrase_74_f\n",
            "Processed: hs_audio_5_50\n",
            "Processed: not_hs_phrase_352\n",
            "Processed: hs_audio_11_10\n",
            "Processed: hs_audio_15_28_f\n",
            "Processed: hs_audio_word_22_3_f\n",
            "Processed: hs_audio_word_28_4_f\n",
            "Processed: not_hs_phrase_364_f\n",
            "Processed: hs_audio_word_26_19\n",
            "Processed: hs_audio_8_4\n",
            "Processed: not_hs_phrase_212\n",
            "Processed: not_hs_phrase_241_f\n",
            "Processed: not_hs_phrase_86\n",
            "Processed: not_hs_phrase_288_f\n",
            "Processed: not_hs_phrase_595_f\n",
            "Processed: hs_audio_word_26_16\n",
            "Processed: hs_audio_word_24_16_f\n",
            "Processed: hs_audio_word_10_4_f\n",
            "Processed: not_hs_phrase_129_f\n",
            "Processed: hs_audio_5_017\n",
            "Processed: hs_audio_word_31_6\n",
            "Processed: hs_audio_word_11_4_f\n",
            "Processed: hs_audio_word_24_21\n",
            "Processed: not_hs_phrase_406_f\n",
            "Processed: hs_audio_word_4_1_f\n",
            "Processed: not_hs_phrase_589\n",
            "Processed: not_hs_phrase_91_f\n",
            "Processed: not_hs_phrase_358\n",
            "Processed: not_hs_phrase_331\n",
            "Processed: hs_audio_word_14_3\n",
            "Processed: hs_audio_word_10_9\n",
            "Processed: not_hs_phrase_505\n",
            "Processed: hs_audio_word_23_11\n",
            "Processed: not_hs_phrase_351\n",
            "Processed: hs_audio_word_11_3\n",
            "Processed: not_hs_phrase_73\n",
            "Processed: hs_audio_word_31_15_f\n",
            "Processed: hs_audio_word_25_6_f\n",
            "Processed: hs_audio_word_22_8\n",
            "Processed: hs_audio_word_14_5_f\n",
            "Processed: hs_audio_word_20_7\n",
            "Processed: not_hs_phrase_232\n",
            "Processed: not_hs_phrase_193\n",
            "Processed: hs_audio_word_16_3\n",
            "Processed: not_hs_phrase_422\n",
            "Processed: not_hs_phrase_425\n",
            "Processed: not_hs_phrase_432_f\n",
            "Processed: not_hs_phrase_199\n",
            "Processed: hs_audio_word_3_3_f\n",
            "Processed: hs_audio_word_32_14_f\n",
            "Processed: not_hs_phrase_346\n",
            "Processed: hs_audio_10_6\n",
            "Processed: not_hs_phrase_337_f\n",
            "Processed: not_hs_phrase_110_f\n",
            "Processed: hs_audio_word_14_10\n",
            "Processed: hs_audio_word_16_1\n",
            "Processed: not_hs_phrase_476\n",
            "Processed: not_hs_phrase_147\n",
            "Processed: not_hs_phrase_24\n",
            "Processed: not_hs_phrase_280\n",
            "Processed: hs_audio_word_1_8\n",
            "Processed: not_hs_phrase_176_f\n",
            "Processed: not_hs_phrase_399\n",
            "Processed: not_hs_phrase_412_f\n",
            "Processed: not_hs_phrase_332\n",
            "Processed: not_hs_phrase_174\n",
            "Processed: hs_audio_5_16\n",
            "Processed: not_hs_phrase_510\n",
            "Processed: not_hs_phrase_259\n",
            "Processed: not_hs_phrase_70\n",
            "Processed: not_hs_phrase_437_f\n",
            "Processed: hs_audio_word_2_2_f\n",
            "Processed: not_hs_phrase_218_f\n",
            "Processed: not_hs_phrase_150_f\n",
            "Processed: hs_audio_word_24_6_f\n",
            "Processed: not_hs_phrase_550\n",
            "Processed: not_hs_phrase_439\n",
            "Processed: hs_audio_word_4_2\n",
            "Processed: hs_audio_word_30_14_f\n",
            "Processed: not_hs_phrase_475\n",
            "Processed: hs_audio_4_15\n",
            "Processed: hs_audio_word_30_4_f\n",
            "✅ Processed 200 audio files and saved results.\n"
          ]
        }
      ]
    },
    {
      "cell_type": "code",
      "source": [
        "from google.colab import drive\n",
        "drive.mount('/content/drive')\n"
      ],
      "metadata": {
        "id": "OzU8LUec1bBi",
        "colab": {
          "base_uri": "https://localhost:8080/"
        },
        "outputId": "b4c35738-903a-4b59-f78d-cc048def76a5"
      },
      "execution_count": 1,
      "outputs": [
        {
          "output_type": "stream",
          "name": "stdout",
          "text": [
            "Drive already mounted at /content/drive; to attempt to forcibly remount, call drive.mount(\"/content/drive\", force_remount=True).\n"
          ]
        }
      ]
    },
    {
      "cell_type": "code",
      "source": [
        "from pathlib import Path\n",
        "import librosa\n",
        "import numpy as np\n",
        "\n",
        "data_path = Path(\"/content/drive/MyDrive/audio_files\")\n",
        "all_files = list(data_path.glob(\"*.wav\"))[:200]  # Limit to 200 for training\n",
        "\n",
        "X = []\n",
        "y = []\n",
        "\n",
        "max_len = 100\n",
        "n_mfcc = 40\n",
        "\n",
        "for file_path in all_files:\n",
        "    audio, sr = librosa.load(file_path, sr=None)\n",
        "    mfcc = librosa.feature.mfcc(y=audio, sr=sr, n_mfcc=n_mfcc).T\n",
        "\n",
        "    if mfcc.shape[0] >= max_len:\n",
        "        mfcc = mfcc[:max_len]\n",
        "    else:\n",
        "        pad = max_len - mfcc.shape[0]\n",
        "        mfcc = np.pad(mfcc, ((0, pad), (0, 0)), mode='constant')\n",
        "\n",
        "    X.append(mfcc)\n",
        "    y.append(0)  # Default label (binary or dummy for now)\n",
        "\n",
        "X = np.array(X)\n",
        "y = np.array(y)\n",
        "\n",
        "print(\"✅ Loaded MFCC features from\", len(X), \"files\")\n",
        "print(\"X shape:\", X.shape, \"| y shape:\", y.shape)\n"
      ],
      "metadata": {
        "colab": {
          "base_uri": "https://localhost:8080/"
        },
        "id": "I_xh6WmgEz2j",
        "outputId": "e0d7cc09-921d-42e7-868e-c81c950f5279"
      },
      "execution_count": 15,
      "outputs": [
        {
          "output_type": "stream",
          "name": "stdout",
          "text": [
            "✅ Loaded MFCC features from 200 files\n",
            "X shape: (200, 100, 40) | y shape: (200,)\n"
          ]
        }
      ]
    },
    {
      "cell_type": "code",
      "source": [
        "from sklearn.model_selection import train_test_split\n",
        "from tensorflow.keras.models import Sequential\n",
        "from tensorflow.keras.layers import LSTM, Dense, Dropout, Masking\n",
        "from tensorflow.keras.utils import to_categorical\n",
        "\n",
        "# 1. Split data into train and test sets\n",
        "X_train, X_test, y_train, y_test = train_test_split(X, y, test_size=0.2, random_state=42)\n",
        "\n",
        "# Reshape input to match LSTM [samples, time steps, features]\n",
        "# Already in (samples, 100, 40)\n",
        "\n",
        "# 2. Build the LSTM model\n",
        "model = Sequential([\n",
        "    Masking(mask_value=0.0, input_shape=(X.shape[1], X.shape[2])),  # Mask padded time steps\n",
        "    LSTM(128, return_sequences=True),\n",
        "    Dropout(0.3),\n",
        "    LSTM(64),\n",
        "    Dropout(0.3),\n",
        "    Dense(32, activation='relu'),\n",
        "    Dense(1, activation='sigmoid')  # Binary classification\n",
        "])\n",
        "\n",
        "# 3. Compile the model\n",
        "model.compile(loss='binary_crossentropy', optimizer='adam', metrics=['accuracy'])\n",
        "\n",
        "# 4. Train the model\n",
        "history = model.fit(X_train, y_train, epochs=15, batch_size=16,\n",
        "                    validation_data=(X_test, y_test), verbose=1)\n",
        "\n",
        "# 5. Evaluate the model\n",
        "loss, acc = model.evaluate(X_test, y_test)\n",
        "print(f\"\\n✅ Test Accuracy: {acc:.4f} | Test Loss: {loss:.4f}\")\n"
      ],
      "metadata": {
        "colab": {
          "base_uri": "https://localhost:8080/"
        },
        "id": "wYHUffB1FMZN",
        "outputId": "0e95f81f-b45a-431b-b48e-dc3dc505a30a"
      },
      "execution_count": 16,
      "outputs": [
        {
          "output_type": "stream",
          "name": "stderr",
          "text": [
            "/usr/local/lib/python3.11/dist-packages/keras/src/layers/core/masking.py:47: UserWarning: Do not pass an `input_shape`/`input_dim` argument to a layer. When using Sequential models, prefer using an `Input(shape)` object as the first layer in the model instead.\n",
            "  super().__init__(**kwargs)\n"
          ]
        },
        {
          "output_type": "stream",
          "name": "stdout",
          "text": [
            "Epoch 1/15\n",
            "\u001b[1m10/10\u001b[0m \u001b[32m━━━━━━━━━━━━━━━━━━━━\u001b[0m\u001b[37m\u001b[0m \u001b[1m6s\u001b[0m 78ms/step - accuracy: 0.7639 - loss: 0.5485 - val_accuracy: 1.0000 - val_loss: 0.1756\n",
            "Epoch 2/15\n",
            "\u001b[1m10/10\u001b[0m \u001b[32m━━━━━━━━━━━━━━━━━━━━\u001b[0m\u001b[37m\u001b[0m \u001b[1m0s\u001b[0m 23ms/step - accuracy: 1.0000 - loss: 0.1370 - val_accuracy: 1.0000 - val_loss: 0.0364\n",
            "Epoch 3/15\n",
            "\u001b[1m10/10\u001b[0m \u001b[32m━━━━━━━━━━━━━━━━━━━━\u001b[0m\u001b[37m\u001b[0m \u001b[1m0s\u001b[0m 25ms/step - accuracy: 1.0000 - loss: 0.0305 - val_accuracy: 1.0000 - val_loss: 0.0081\n",
            "Epoch 4/15\n",
            "\u001b[1m10/10\u001b[0m \u001b[32m━━━━━━━━━━━━━━━━━━━━\u001b[0m\u001b[37m\u001b[0m \u001b[1m0s\u001b[0m 18ms/step - accuracy: 1.0000 - loss: 0.0079 - val_accuracy: 1.0000 - val_loss: 0.0030\n",
            "Epoch 5/15\n",
            "\u001b[1m10/10\u001b[0m \u001b[32m━━━━━━━━━━━━━━━━━━━━\u001b[0m\u001b[37m\u001b[0m \u001b[1m0s\u001b[0m 23ms/step - accuracy: 1.0000 - loss: 0.0031 - val_accuracy: 1.0000 - val_loss: 0.0016\n",
            "Epoch 6/15\n",
            "\u001b[1m10/10\u001b[0m \u001b[32m━━━━━━━━━━━━━━━━━━━━\u001b[0m\u001b[37m\u001b[0m \u001b[1m0s\u001b[0m 19ms/step - accuracy: 1.0000 - loss: 0.0018 - val_accuracy: 1.0000 - val_loss: 0.0011\n",
            "Epoch 7/15\n",
            "\u001b[1m10/10\u001b[0m \u001b[32m━━━━━━━━━━━━━━━━━━━━\u001b[0m\u001b[37m\u001b[0m \u001b[1m0s\u001b[0m 18ms/step - accuracy: 1.0000 - loss: 0.0013 - val_accuracy: 1.0000 - val_loss: 8.2101e-04\n",
            "Epoch 8/15\n",
            "\u001b[1m10/10\u001b[0m \u001b[32m━━━━━━━━━━━━━━━━━━━━\u001b[0m\u001b[37m\u001b[0m \u001b[1m0s\u001b[0m 22ms/step - accuracy: 1.0000 - loss: 0.0013 - val_accuracy: 1.0000 - val_loss: 6.5470e-04\n",
            "Epoch 9/15\n",
            "\u001b[1m10/10\u001b[0m \u001b[32m━━━━━━━━━━━━━━━━━━━━\u001b[0m\u001b[37m\u001b[0m \u001b[1m0s\u001b[0m 18ms/step - accuracy: 1.0000 - loss: 9.1433e-04 - val_accuracy: 1.0000 - val_loss: 5.3824e-04\n",
            "Epoch 10/15\n",
            "\u001b[1m10/10\u001b[0m \u001b[32m━━━━━━━━━━━━━━━━━━━━\u001b[0m\u001b[37m\u001b[0m \u001b[1m0s\u001b[0m 18ms/step - accuracy: 1.0000 - loss: 8.4348e-04 - val_accuracy: 1.0000 - val_loss: 4.5658e-04\n",
            "Epoch 11/15\n",
            "\u001b[1m10/10\u001b[0m \u001b[32m━━━━━━━━━━━━━━━━━━━━\u001b[0m\u001b[37m\u001b[0m \u001b[1m0s\u001b[0m 19ms/step - accuracy: 1.0000 - loss: 7.0568e-04 - val_accuracy: 1.0000 - val_loss: 3.9557e-04\n",
            "Epoch 12/15\n",
            "\u001b[1m10/10\u001b[0m \u001b[32m━━━━━━━━━━━━━━━━━━━━\u001b[0m\u001b[37m\u001b[0m \u001b[1m0s\u001b[0m 19ms/step - accuracy: 1.0000 - loss: 6.4122e-04 - val_accuracy: 1.0000 - val_loss: 3.4618e-04\n",
            "Epoch 13/15\n",
            "\u001b[1m10/10\u001b[0m \u001b[32m━━━━━━━━━━━━━━━━━━━━\u001b[0m\u001b[37m\u001b[0m \u001b[1m0s\u001b[0m 22ms/step - accuracy: 1.0000 - loss: 5.6111e-04 - val_accuracy: 1.0000 - val_loss: 3.0428e-04\n",
            "Epoch 14/15\n",
            "\u001b[1m10/10\u001b[0m \u001b[32m━━━━━━━━━━━━━━━━━━━━\u001b[0m\u001b[37m\u001b[0m \u001b[1m0s\u001b[0m 22ms/step - accuracy: 1.0000 - loss: 4.4498e-04 - val_accuracy: 1.0000 - val_loss: 2.7183e-04\n",
            "Epoch 15/15\n",
            "\u001b[1m10/10\u001b[0m \u001b[32m━━━━━━━━━━━━━━━━━━━━\u001b[0m\u001b[37m\u001b[0m \u001b[1m0s\u001b[0m 21ms/step - accuracy: 1.0000 - loss: 3.9956e-04 - val_accuracy: 1.0000 - val_loss: 2.4446e-04\n",
            "\u001b[1m2/2\u001b[0m \u001b[32m━━━━━━━━━━━━━━━━━━━━\u001b[0m\u001b[37m\u001b[0m \u001b[1m0s\u001b[0m 25ms/step - accuracy: 1.0000 - loss: 2.4407e-04\n",
            "\n",
            "✅ Test Accuracy: 1.0000 | Test Loss: 0.0002\n"
          ]
        }
      ]
    },
    {
      "cell_type": "code",
      "source": [
        "from sklearn.metrics import classification_report, confusion_matrix\n",
        "import numpy as np\n",
        "\n",
        "# Predict probabilities\n",
        "y_pred_probs = model.predict(X_test)\n",
        "# Convert probabilities to binary class labels (threshold = 0.5)\n",
        "y_pred = (y_pred_probs > 0.5).astype(int)\n",
        "\n",
        "# Flatten arrays\n",
        "y_pred = y_pred.flatten()\n",
        "y_test = y_test.flatten()\n",
        "\n",
        "# Print classification report\n",
        "print(\"\\n📊 Classification Report:\")\n",
        "print(classification_report(y_test, y_pred, digits=4))\n",
        "\n",
        "# Print confusion matrix\n",
        "print(\"🧩 Confusion Matrix:\")\n",
        "print(confusion_matrix(y_test, y_pred))\n"
      ],
      "metadata": {
        "colab": {
          "base_uri": "https://localhost:8080/"
        },
        "id": "JJ9BIHW6FoKB",
        "outputId": "06cb3668-d43c-4675-fbc3-b99e3b6499e2"
      },
      "execution_count": 17,
      "outputs": [
        {
          "output_type": "stream",
          "name": "stdout",
          "text": [
            "\u001b[1m2/2\u001b[0m \u001b[32m━━━━━━━━━━━━━━━━━━━━\u001b[0m\u001b[37m\u001b[0m \u001b[1m1s\u001b[0m 495ms/step\n",
            "\n",
            "📊 Classification Report:\n",
            "              precision    recall  f1-score   support\n",
            "\n",
            "           0     1.0000    1.0000    1.0000        40\n",
            "\n",
            "    accuracy                         1.0000        40\n",
            "   macro avg     1.0000    1.0000    1.0000        40\n",
            "weighted avg     1.0000    1.0000    1.0000        40\n",
            "\n",
            "🧩 Confusion Matrix:\n",
            "[[40]]\n"
          ]
        },
        {
          "output_type": "stream",
          "name": "stderr",
          "text": [
            "/usr/local/lib/python3.11/dist-packages/sklearn/metrics/_classification.py:407: UserWarning: A single label was found in 'y_true' and 'y_pred'. For the confusion matrix to have the correct shape, use the 'labels' parameter to pass all known labels.\n",
            "  warnings.warn(\n"
          ]
        }
      ]
    },
    {
      "cell_type": "code",
      "source": [
        "import numpy as np\n",
        "from pathlib import Path\n",
        "import librosa\n",
        "from sklearn.model_selection import StratifiedKFold\n",
        "from sklearn.metrics import classification_report, confusion_matrix\n",
        "from tensorflow.keras.models import Sequential\n",
        "from tensorflow.keras.layers import LSTM, Dense, Dropout, Masking\n",
        "import tensorflow as tf\n",
        "\n",
        "# Step 1: Load MFCC features\n",
        "data_path = Path(\"/content/drive/MyDrive/audio_files\")\n",
        "all_files = list(data_path.glob(\"*.wav\"))[:200]  # Limit to 200 files\n",
        "\n",
        "X = []\n",
        "y = []\n",
        "\n",
        "max_len = 100\n",
        "n_mfcc = 40\n",
        "\n",
        "for file_path in all_files:\n",
        "    audio, sr = librosa.load(file_path, sr=None)\n",
        "    mfcc = librosa.feature.mfcc(y=audio, sr=sr, n_mfcc=n_mfcc).T\n",
        "\n",
        "    if mfcc.shape[0] >= max_len:\n",
        "        mfcc = mfcc[:max_len]\n",
        "    else:\n",
        "        pad = max_len - mfcc.shape[0]\n",
        "        mfcc = np.pad(mfcc, ((0, pad), (0, 0)), mode='constant')\n",
        "\n",
        "    X.append(mfcc)\n",
        "    y.append(0 if '0' in file_path.stem else 1)  # Example label logic\n",
        "\n",
        "X = np.array(X)\n",
        "y = np.array(y)\n",
        "\n",
        "print(f\"✅ Loaded MFCCs: {X.shape}, Labels: {np.unique(y, return_counts=True)}\")\n",
        "\n",
        "# Step 2: K-Fold Cross Validation\n",
        "kf = StratifiedKFold(n_splits=5, shuffle=True, random_state=42)\n",
        "all_reports = []\n",
        "\n",
        "for fold, (train_idx, val_idx) in enumerate(kf.split(X, y)):\n",
        "    print(f\"\\n📂 Fold {fold + 1}/5\")\n",
        "\n",
        "    X_train, X_val = X[train_idx], X[val_idx]\n",
        "    y_train, y_val = y[train_idx], y[val_idx]\n",
        "\n",
        "    model = Sequential([\n",
        "        Masking(mask_value=0.0, input_shape=(X.shape[1], X.shape[2])),\n",
        "        LSTM(128, return_sequences=True),\n",
        "        Dropout(0.3),\n",
        "        LSTM(64),\n",
        "        Dropout(0.3),\n",
        "        Dense(32, activation='relu'),\n",
        "        Dense(1, activation='sigmoid')\n",
        "    ])\n",
        "\n",
        "    model.compile(loss='binary_crossentropy', optimizer='adam', metrics=['accuracy'])\n",
        "\n",
        "    # Train the model\n",
        "    model.fit(X_train, y_train, epochs=10, batch_size=16, verbose=0)\n",
        "\n",
        "    # Predict\n",
        "    y_pred_probs = model.predict(X_val)\n",
        "    y_pred = (y_pred_probs > 0.5).astype(int).flatten()\n",
        "\n",
        "    # Evaluation\n",
        "    print(\"Confusion Matrix:\")\n",
        "    print(confusion_matrix(y_val, y_pred))\n",
        "\n",
        "    report = classification_report(y_val, y_pred, digits=4, output_dict=True)\n",
        "    all_reports.append(report)\n",
        "\n",
        "    print(\"Classification Report:\")\n",
        "    print(classification_report(y_val, y_pred, digits=4))\n",
        "\n",
        "# Step 3: Average Metrics\n",
        "avg_acc = np.mean([r.get('accuracy', 0) for r in all_reports])\n",
        "avg_prec_0 = np.mean([r.get('0', {}).get('precision', 0) for r in all_reports])\n",
        "avg_prec_1 = np.mean([r.get('1', {}).get('precision', 0) for r in all_reports])\n",
        "avg_recall_0 = np.mean([r.get('0', {}).get('recall', 0) for r in all_reports])\n",
        "avg_recall_1 = np.mean([r.get('1', {}).get('recall', 0) for r in all_reports])\n",
        "\n",
        "print(\"\\n📊 Average Scores Across Folds:\")\n",
        "print(f\"Avg Accuracy       : {avg_acc:.4f}\")\n",
        "print(f\"Avg Precision [0/1]: {avg_prec_0:.4f} / {avg_prec_1:.4f}\")\n",
        "print(f\"Avg Recall    [0/1]: {avg_recall_0:.4f} / {avg_recall_1:.4f}\")\n"
      ],
      "metadata": {
        "colab": {
          "base_uri": "https://localhost:8080/"
        },
        "id": "PZRXjPhzF9WL",
        "outputId": "7855079f-b0d6-4969-ce78-a37ba3dd8d2d"
      },
      "execution_count": 19,
      "outputs": [
        {
          "output_type": "stream",
          "name": "stdout",
          "text": [
            "✅ Loaded MFCCs: (200, 100, 40), Labels: (array([0, 1]), array([ 41, 159]))\n",
            "\n",
            "📂 Fold 1/5\n"
          ]
        },
        {
          "output_type": "stream",
          "name": "stderr",
          "text": [
            "/usr/local/lib/python3.11/dist-packages/keras/src/layers/core/masking.py:47: UserWarning: Do not pass an `input_shape`/`input_dim` argument to a layer. When using Sequential models, prefer using an `Input(shape)` object as the first layer in the model instead.\n",
            "  super().__init__(**kwargs)\n"
          ]
        },
        {
          "output_type": "stream",
          "name": "stdout",
          "text": [
            "\u001b[1m2/2\u001b[0m \u001b[32m━━━━━━━━━━━━━━━━━━━━\u001b[0m\u001b[37m\u001b[0m \u001b[1m0s\u001b[0m 206ms/step\n",
            "Confusion Matrix:\n",
            "[[ 0  9]\n",
            " [ 2 29]]\n",
            "Classification Report:\n",
            "              precision    recall  f1-score   support\n",
            "\n",
            "           0     0.0000    0.0000    0.0000         9\n",
            "           1     0.7632    0.9355    0.8406        31\n",
            "\n",
            "    accuracy                         0.7250        40\n",
            "   macro avg     0.3816    0.4677    0.4203        40\n",
            "weighted avg     0.5914    0.7250    0.6514        40\n",
            "\n",
            "\n",
            "📂 Fold 2/5\n"
          ]
        },
        {
          "output_type": "stream",
          "name": "stderr",
          "text": [
            "/usr/local/lib/python3.11/dist-packages/keras/src/layers/core/masking.py:47: UserWarning: Do not pass an `input_shape`/`input_dim` argument to a layer. When using Sequential models, prefer using an `Input(shape)` object as the first layer in the model instead.\n",
            "  super().__init__(**kwargs)\n"
          ]
        },
        {
          "output_type": "stream",
          "name": "stdout",
          "text": [
            "\u001b[1m2/2\u001b[0m \u001b[32m━━━━━━━━━━━━━━━━━━━━\u001b[0m\u001b[37m\u001b[0m \u001b[1m0s\u001b[0m 210ms/step\n",
            "Confusion Matrix:\n",
            "[[ 0  8]\n",
            " [ 2 30]]\n",
            "Classification Report:\n",
            "              precision    recall  f1-score   support\n",
            "\n",
            "           0     0.0000    0.0000    0.0000         8\n",
            "           1     0.7895    0.9375    0.8571        32\n",
            "\n",
            "    accuracy                         0.7500        40\n",
            "   macro avg     0.3947    0.4688    0.4286        40\n",
            "weighted avg     0.6316    0.7500    0.6857        40\n",
            "\n",
            "\n",
            "📂 Fold 3/5\n"
          ]
        },
        {
          "output_type": "stream",
          "name": "stderr",
          "text": [
            "/usr/local/lib/python3.11/dist-packages/keras/src/layers/core/masking.py:47: UserWarning: Do not pass an `input_shape`/`input_dim` argument to a layer. When using Sequential models, prefer using an `Input(shape)` object as the first layer in the model instead.\n",
            "  super().__init__(**kwargs)\n"
          ]
        },
        {
          "output_type": "stream",
          "name": "stdout",
          "text": [
            "\u001b[1m2/2\u001b[0m \u001b[32m━━━━━━━━━━━━━━━━━━━━\u001b[0m\u001b[37m\u001b[0m \u001b[1m0s\u001b[0m 202ms/step\n",
            "Confusion Matrix:\n",
            "[[ 0  8]\n",
            " [ 4 28]]\n",
            "Classification Report:\n",
            "              precision    recall  f1-score   support\n",
            "\n",
            "           0     0.0000    0.0000    0.0000         8\n",
            "           1     0.7778    0.8750    0.8235        32\n",
            "\n",
            "    accuracy                         0.7000        40\n",
            "   macro avg     0.3889    0.4375    0.4118        40\n",
            "weighted avg     0.6222    0.7000    0.6588        40\n",
            "\n",
            "\n",
            "📂 Fold 4/5\n"
          ]
        },
        {
          "output_type": "stream",
          "name": "stderr",
          "text": [
            "/usr/local/lib/python3.11/dist-packages/keras/src/layers/core/masking.py:47: UserWarning: Do not pass an `input_shape`/`input_dim` argument to a layer. When using Sequential models, prefer using an `Input(shape)` object as the first layer in the model instead.\n",
            "  super().__init__(**kwargs)\n"
          ]
        },
        {
          "output_type": "stream",
          "name": "stdout",
          "text": [
            "\u001b[1m2/2\u001b[0m \u001b[32m━━━━━━━━━━━━━━━━━━━━\u001b[0m\u001b[37m\u001b[0m \u001b[1m0s\u001b[0m 204ms/step\n",
            "Confusion Matrix:\n",
            "[[ 0  8]\n",
            " [ 5 27]]\n",
            "Classification Report:\n",
            "              precision    recall  f1-score   support\n",
            "\n",
            "           0     0.0000    0.0000    0.0000         8\n",
            "           1     0.7714    0.8438    0.8060        32\n",
            "\n",
            "    accuracy                         0.6750        40\n",
            "   macro avg     0.3857    0.4219    0.4030        40\n",
            "weighted avg     0.6171    0.6750    0.6448        40\n",
            "\n",
            "\n",
            "📂 Fold 5/5\n"
          ]
        },
        {
          "output_type": "stream",
          "name": "stderr",
          "text": [
            "/usr/local/lib/python3.11/dist-packages/keras/src/layers/core/masking.py:47: UserWarning: Do not pass an `input_shape`/`input_dim` argument to a layer. When using Sequential models, prefer using an `Input(shape)` object as the first layer in the model instead.\n",
            "  super().__init__(**kwargs)\n"
          ]
        },
        {
          "output_type": "stream",
          "name": "stdout",
          "text": [
            "\u001b[1m2/2\u001b[0m \u001b[32m━━━━━━━━━━━━━━━━━━━━\u001b[0m\u001b[37m\u001b[0m \u001b[1m1s\u001b[0m 290ms/step\n",
            "Confusion Matrix:\n",
            "[[ 3  5]\n",
            " [10 22]]\n",
            "Classification Report:\n",
            "              precision    recall  f1-score   support\n",
            "\n",
            "           0     0.2308    0.3750    0.2857         8\n",
            "           1     0.8148    0.6875    0.7458        32\n",
            "\n",
            "    accuracy                         0.6250        40\n",
            "   macro avg     0.5228    0.5312    0.5157        40\n",
            "weighted avg     0.6980    0.6250    0.6538        40\n",
            "\n",
            "\n",
            "📊 Average Scores Across Folds:\n",
            "Avg Accuracy       : 0.6950\n",
            "Avg Precision [0/1]: 0.0462 / 0.7833\n",
            "Avg Recall    [0/1]: 0.0750 / 0.8558\n"
          ]
        }
      ]
    },
    {
      "cell_type": "code",
      "source": [
        "import seaborn as sns\n",
        "import matplotlib.pyplot as plt\n",
        "from sklearn.metrics import confusion_matrix\n",
        "\n",
        "# Predict\n",
        "y_pred_probs = model.predict(X_val)\n",
        "y_pred = (y_pred_probs > 0.5).astype(int).flatten()\n",
        "\n",
        "# Compute confusion matrix\n",
        "cm = confusion_matrix(y_val, y_pred)\n",
        "\n",
        "# Print numeric confusion matrix\n",
        "print(\"Confusion Matrix:\")\n",
        "print(cm)\n",
        "\n",
        "# Plot confusion matrix\n",
        "plt.figure(figsize=(5, 4))\n",
        "sns.heatmap(cm, annot=True, fmt='d', cmap='Blues', xticklabels=['Pred 0', 'Pred 1'], yticklabels=['True 0', 'True 1'])\n",
        "plt.xlabel('Predicted')\n",
        "plt.ylabel('Actual')\n",
        "plt.title(f'Confusion Matrix - Fold {fold+1}')\n",
        "plt.tight_layout()\n",
        "plt.show()\n"
      ],
      "metadata": {
        "colab": {
          "base_uri": "https://localhost:8080/",
          "height": 476
        },
        "id": "kYfeFvGIGy6_",
        "outputId": "07591f8e-7270-4dc5-9d15-05f6e36dcc7b"
      },
      "execution_count": 21,
      "outputs": [
        {
          "output_type": "stream",
          "name": "stdout",
          "text": [
            "\u001b[1m2/2\u001b[0m \u001b[32m━━━━━━━━━━━━━━━━━━━━\u001b[0m\u001b[37m\u001b[0m \u001b[1m0s\u001b[0m 20ms/step\n",
            "Confusion Matrix:\n",
            "[[ 3  5]\n",
            " [10 22]]\n"
          ]
        },
        {
          "output_type": "display_data",
          "data": {
            "text/plain": [
              "<Figure size 500x400 with 2 Axes>"
            ],
            "image/png": "[encoded data removed]"
          },
          "metadata": {}
        }
      ]
    },
    {
      "cell_type": "code",
      "source": [
        "from scipy import stats\n",
        "\n",
        "# Get predicted probabilities\n",
        "y_pred_probs = model.predict(X_val).flatten()\n",
        "y_pred_labels = (y_pred_probs > 0.5).astype(int)\n",
        "\n",
        "# Split predicted probs by true labels\n",
        "group0 = y_pred_probs[y_val == 0]\n",
        "group1 = y_pred_probs[y_val == 1]\n",
        "\n",
        "# --- Z-Test ---\n",
        "# Calculate proportions\n",
        "n0, n1 = len(group0), len(group1)\n",
        "p0, p1 = np.mean(y_pred_labels[y_val == 0]), np.mean(y_pred_labels[y_val == 1])\n",
        "\n",
        "pooled_p = (p0 * n0 + p1 * n1) / (n0 + n1)\n",
        "z = (p0 - p1) / np.sqrt(pooled_p * (1 - pooled_p) * (1/n0 + 1/n1))\n",
        "p_value_z = stats.norm.sf(abs(z)) * 2\n",
        "\n",
        "print(f\"\\n🧪 Z-Test: Z = {z:.4f}, p = {p_value_z:.4f}\")\n",
        "\n",
        "# --- T-Test ---\n",
        "t_stat, p_value_t = stats.ttest_ind(group0, group1)\n",
        "print(f\"🧪 T-Test: t = {t_stat:.4f}, p = {p_value_t:.4f}\")\n",
        "\n",
        "# --- Optional: ANOVA ---\n",
        "f_stat, p_value_anova = stats.f_oneway(group0, group1)\n",
        "print(f\"🧪 ANOVA: F = {f_stat:.4f}, p = {p_value_anova:.4f}\")\n",
        "\n"
      ],
      "metadata": {
        "id": "9mEwY8kEG_NM",
        "outputId": "73ec9065-9e75-4b55-ae12-b27c30f9f1f7",
        "colab": {
          "base_uri": "https://localhost:8080/"
        }
      },
      "execution_count": 22,
      "outputs": [
        {
          "output_type": "stream",
          "name": "stdout",
          "text": [
            "\u001b[1m2/2\u001b[0m \u001b[32m━━━━━━━━━━━━━━━━━━━━\u001b[0m\u001b[37m\u001b[0m \u001b[1m0s\u001b[0m 28ms/step\n",
            "\n",
            "🧪 Z-Test: Z = -0.3376, p = 0.7357\n",
            "🧪 T-Test: t = -0.2457, p = 0.8072\n",
            "🧪 ANOVA: F = 0.0604, p = 0.8072\n"
          ]
        }
      ]
    }
  ]
}